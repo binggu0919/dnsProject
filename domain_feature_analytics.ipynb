{
 "metadata": {
  "language_info": {
   "codemirror_mode": {
    "name": "ipython",
    "version": 3
   },
   "file_extension": ".py",
   "mimetype": "text/x-python",
   "name": "python",
   "nbconvert_exporter": "python",
   "pygments_lexer": "ipython3",
   "version": "3.7.3-final"
  },
  "orig_nbformat": 2,
  "kernelspec": {
   "name": "python3",
   "display_name": "Python 3.7.3 64-bit ('ProgramData': virtualenv)",
   "metadata": {
    "interpreter": {
     "hash": "b3ba2566441a7c06988d0923437866b63cedc61552a5af99d1f4fb67d367b25f"
    }
   }
  }
 },
 "nbformat": 4,
 "nbformat_minor": 2,
 "cells": [
  {
   "cell_type": "code",
   "execution_count": 1,
   "metadata": {},
   "outputs": [],
   "source": [
    "import pandas as pd\n",
    "import numpy as np"
   ]
  },
  {
   "cell_type": "code",
   "execution_count": 26,
   "metadata": {},
   "outputs": [
    {
     "output_type": "execute_result",
     "data": {
      "text/plain": [
       "        domain\n",
       "0   google.com\n",
       "1  youtube.com\n",
       "2    tmall.com\n",
       "3       qq.com\n",
       "4    baidu.com"
      ],
      "text/html": "<div>\n<style scoped>\n    .dataframe tbody tr th:only-of-type {\n        vertical-align: middle;\n    }\n\n    .dataframe tbody tr th {\n        vertical-align: top;\n    }\n\n    .dataframe thead th {\n        text-align: right;\n    }\n</style>\n<table border=\"1\" class=\"dataframe\">\n  <thead>\n    <tr style=\"text-align: right;\">\n      <th></th>\n      <th>domain</th>\n    </tr>\n  </thead>\n  <tbody>\n    <tr>\n      <th>0</th>\n      <td>google.com</td>\n    </tr>\n    <tr>\n      <th>1</th>\n      <td>youtube.com</td>\n    </tr>\n    <tr>\n      <th>2</th>\n      <td>tmall.com</td>\n    </tr>\n    <tr>\n      <th>3</th>\n      <td>qq.com</td>\n    </tr>\n    <tr>\n      <th>4</th>\n      <td>baidu.com</td>\n    </tr>\n  </tbody>\n</table>\n</div>"
     },
     "metadata": {},
     "execution_count": 26
    }
   ],
   "source": [
    "### whitelist domian csv\n",
    "\n",
    "df_whitelist_domain = pd.read_csv(\"./top-1m.csv\",index_col=0,header=None)\n",
    "df_whitelist_domain.reset_index(inplace=True)\n",
    "df_whitelist_domain.rename(columns={0:\"no\",1:\"domain\"}, inplace=True)\n",
    "df_whitelist_domain.set_index('no',inplace=True)\n",
    "df_whitelist_domain.reset_index(drop=True, inplace=True)\n",
    "# df_whitelist_domain.set_index('no',append=True)\n",
    "df_whitelist_domain.head()\n"
   ]
  },
  {
   "cell_type": "code",
   "execution_count": null,
   "metadata": {},
   "outputs": [],
   "source": []
  }
 ]
}